{
 "cells": [
  {
   "cell_type": "code",
   "execution_count": 1,
   "id": "0c0fc99c-591e-4700-a480-40e6d52f7cd5",
   "metadata": {},
   "outputs": [
    {
     "name": "stdout",
     "output_type": "stream",
     "text": [
      "Total Purchases per Customer:\n",
      "   Customer_ID  Purchase_Amount\n",
      "0          101              520\n",
      "1          102              600\n",
      "2          103              480\n",
      "3          104              300\n",
      "4          105              400\n",
      "\n",
      "Top 3 Frequent Customers:\n",
      "   Customer_ID  Purchase_Amount\n",
      "1          102              600\n",
      "0          101              520\n",
      "2          103              480\n"
     ]
    }
   ],
   "source": [
    "import warnings\n",
    "warnings.filterwarnings('ignore')\n",
    "\n",
    "import pandas as pd\n",
    "\n",
    "# Creating a DataFrame\n",
    "data = {'Customer_ID': [101, 102, 103, 101, 104, 102, 101, 105, 102, 103],\n",
    "        'Purchase_Amount': [200, 150, 180, 220, 300, 200, 100, 400, 250, 300]}\n",
    "\n",
    "df = pd.DataFrame(data)\n",
    "\n",
    "# Grouping by Customer_ID and calculating total purchases\n",
    "total_purchases = df.groupby('Customer_ID')['Purchase_Amount'].sum().reset_index()\n",
    "\n",
    "# Finding the top 3 frequent customers\n",
    "top_customers = total_purchases.sort_values(by='Purchase_Amount', ascending=False).head(3)\n",
    "\n",
    "print(\"Total Purchases per Customer:\")\n",
    "print(total_purchases)\n",
    "print(\"\\nTop 3 Frequent Customers:\")\n",
    "print(top_customers)\n"
   ]
  },
  {
   "cell_type": "code",
   "execution_count": 2,
   "id": "5979a8d2-eac5-4bf8-99d0-e5cb9894b269",
   "metadata": {},
   "outputs": [
    {
     "name": "stdout",
     "output_type": "stream",
     "text": [
      "Predicted Prices:\n",
      "[360000. 560000.]\n"
     ]
    }
   ],
   "source": [
    "import pandas as pd\n",
    "from sklearn.model_selection import train_test_split\n",
    "from sklearn.linear_model import LinearRegression\n",
    "\n",
    "# Creating a DataFrame\n",
    "data = {'Square_Feet': [1500, 2000, 2500, 3000, 3500],\n",
    "        'Price': [300000, 400000, 500000, 600000, 700000]}\n",
    "\n",
    "df = pd.DataFrame(data)\n",
    "\n",
    "# Splitting into features and target\n",
    "X = df[['Square_Feet']]\n",
    "y = df['Price']\n",
    "\n",
    "# Training a Linear Regression Model\n",
    "model = LinearRegression()\n",
    "model.fit(X, y)\n",
    "\n",
    "# Predicting for test data\n",
    "test_data = [[1800], [2800]]\n",
    "predictions = model.predict(test_data)\n",
    "\n",
    "print(\"Predicted Prices:\")\n",
    "print(predictions)"
   ]
  },
  {
   "cell_type": "code",
   "execution_count": 3,
   "id": "2b262f90-9516-4ec8-86a7-9bebb304f29c",
   "metadata": {},
   "outputs": [
    {
     "name": "stdout",
     "output_type": "stream",
     "text": [
      "Total Occurrences per Category:\n",
      "  Category  Count\n",
      "0        A      4\n",
      "1        B      3\n",
      "2        C      3\n",
      "3        D      1\n",
      "4        E      1\n",
      "\n",
      "Top 3 Frequent Categories:\n",
      "  Category  Count\n",
      "0        A      4\n",
      "1        B      3\n",
      "2        C      3\n"
     ]
    }
   ],
   "source": [
    "import pandas as pd\n",
    "\n",
    "# Creating a DataFrame\n",
    "data = {'Category': ['A', 'B', 'C', 'A', 'D', 'B', 'A', 'E', 'B', 'C', 'C', 'A'],\n",
    "        'Value': [10, 15, 20, 30, 25, 18, 22, 40, 35, 50, 45, 15]}\n",
    "\n",
    "df = pd.DataFrame(data)\n",
    "\n",
    "# Counting occurrences per category\n",
    "category_counts = df.groupby('Category').size().reset_index(name='Count')\n",
    "\n",
    "# Finding the top 3 most frequent categories\n",
    "top_categories = category_counts.sort_values(by='Count', ascending=False).head(3)\n",
    "\n",
    "# Printing results\n",
    "print(\"Total Occurrences per Category:\")\n",
    "print(category_counts)\n",
    "print(\"\\nTop 3 Frequent Categories:\")\n",
    "print(top_categories)\n"
   ]
  },
  {
   "cell_type": "code",
   "execution_count": 4,
   "id": "2b6d7058-8234-4f6e-8f7c-244c5e107a64",
   "metadata": {},
   "outputs": [
    {
     "name": "stdout",
     "output_type": "stream",
     "text": [
      "Original Data:\n",
      "      Name   Age\n",
      "0    Alice  25.0\n",
      "1      Bob  30.0\n",
      "2  Charlie   NaN\n",
      "3    David  35.0\n",
      "4      Eve   NaN\n",
      "\n",
      "Data after Imputation:\n",
      "      Name   Age\n",
      "0    Alice  25.0\n",
      "1      Bob  30.0\n",
      "2  Charlie  30.0\n",
      "3    David  35.0\n",
      "4      Eve  30.0\n"
     ]
    }
   ],
   "source": [
    "import pandas as pd\n",
    "\n",
    "# Creating a DataFrame\n",
    "data = {'Name': ['Alice', 'Bob', 'Charlie', 'David', 'Eve'],\n",
    "        'Age': [25, 30, None, 35, None]}\n",
    "\n",
    "df = pd.DataFrame(data)\n",
    "\n",
    "# Display original data\n",
    "print(\"Original Data:\")\n",
    "print(df)\n",
    "\n",
    "# Replacing missing values with mean\n",
    "df['Age'].fillna(df['Age'].mean(), inplace=True)\n",
    "\n",
    "# Display updated data\n",
    "print(\"\\nData after Imputation:\")\n",
    "print(df)\n"
   ]
  },
  {
   "cell_type": "code",
   "execution_count": 5,
   "id": "c4c2a7aa-4118-4d6f-9696-50fe246bb267",
   "metadata": {},
   "outputs": [
    {
     "name": "stdout",
     "output_type": "stream",
     "text": [
      "Predicted Salary for 6 years of experience: $55000.00\n"
     ]
    }
   ],
   "source": [
    "from sklearn.linear_model import LinearRegression\n",
    "\n",
    "# Creating a DataFrame\n",
    "data = {'Experience': [1, 2, 3, 4, 5], \n",
    "        'Salary': [30000, 35000, 40000, 45000, 50000]}\n",
    "df = pd.DataFrame(data)\n",
    "\n",
    "# Splitting into X and y\n",
    "X = df[['Experience']]\n",
    "y = df['Salary']\n",
    "\n",
    "# Training a Linear Regression Model\n",
    "model = LinearRegression()\n",
    "model.fit(X, y)\n",
    "\n",
    "# Predicting salary for 6 years of experience\n",
    "predicted_salary = model.predict([[6]])\n",
    "print(f\"Predicted Salary for 6 years of experience: ${predicted_salary[0]:.2f}\")"
   ]
  },
  {
   "cell_type": "code",
   "execution_count": null,
   "id": "d763017a-8ef2-4238-bde5-04617329e7fe",
   "metadata": {},
   "outputs": [],
   "source": []
  }
 ],
 "metadata": {
  "kernelspec": {
   "display_name": "Python [conda env:base] *",
   "language": "python",
   "name": "conda-base-py"
  },
  "language_info": {
   "codemirror_mode": {
    "name": "ipython",
    "version": 3
   },
   "file_extension": ".py",
   "mimetype": "text/x-python",
   "name": "python",
   "nbconvert_exporter": "python",
   "pygments_lexer": "ipython3",
   "version": "3.13.5"
  }
 },
 "nbformat": 4,
 "nbformat_minor": 5
}
