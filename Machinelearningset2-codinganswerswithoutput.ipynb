{
 "cells": [
  {
   "cell_type": "code",
   "execution_count": 1,
   "id": "5617499d-66d0-468f-83e6-ba3c37a47a3a",
   "metadata": {},
   "outputs": [
    {
     "name": "stdout",
     "output_type": "stream",
     "text": [
      "Customer Purchase Frequency:\n",
      "   Customer_ID  Purchase_Count\n",
      "0          101               3\n",
      "1          102               3\n",
      "2          103               2\n",
      "3          104               1\n",
      "4          105               1\n",
      "\n",
      "Top 3 Frequent Customers:\n",
      "   Customer_ID  Purchase_Count\n",
      "0          101               3\n",
      "1          102               3\n",
      "2          103               2\n"
     ]
    }
   ],
   "source": [
    "import pandas as pd\n",
    "\n",
    "# Creating the DataFrame\n",
    "data = {'Customer_ID': [101, 102, 103, 101, 104, 102, 101, 105, 102, 103],\n",
    "        'Purchase_Amount': [200, 150, 180, 220, 300, 200, 100, 400, 250, 300]}\n",
    "\n",
    "df = pd.DataFrame(data)\n",
    "\n",
    "# Group by Customer_ID and count purchases\n",
    "purchase_freq = df.groupby('Customer_ID').size().reset_index(name='Purchase_Count')\n",
    "\n",
    "# Sorting and getting top 3 customers\n",
    "top_customers = purchase_freq.sort_values(by='Purchase_Count', ascending=False).head(3)\n",
    "\n",
    "print(\"Customer Purchase Frequency:\")\n",
    "print(purchase_freq)\n",
    "\n",
    "print(\"\\nTop 3 Frequent Customers:\")\n",
    "print(top_customers)"
   ]
  },
  {
   "cell_type": "code",
   "execution_count": 2,
   "id": "8cda4131-4a8d-447e-aee0-db17427ee733",
   "metadata": {},
   "outputs": [
    {
     "name": "stdout",
     "output_type": "stream",
     "text": [
      "Average Exam Scores per Student:\n",
      "   Student_ID  Avg_Score\n",
      "0         201  84.333333\n",
      "1         202  88.666667\n",
      "2         203  81.000000\n",
      "3         204  92.000000\n",
      "4         205  95.000000\n",
      "\n",
      "Top 3 Students with Highest Scores:\n",
      "   Student_ID  Avg_Score\n",
      "4         205  95.000000\n",
      "3         204  92.000000\n",
      "1         202  88.666667\n"
     ]
    }
   ],
   "source": [
    "import pandas as pd\n",
    "\n",
    "# Creating the DataFrame\n",
    "data = {'Student_ID': [201, 202, 203, 201, 204, 202, 201, 205, 202, 203],\n",
    "        'Exam_Score': [85, 90, 78, 88, 92, 87, 80, 95, 89, 84]}\n",
    "\n",
    "df = pd.DataFrame(data)\n",
    "\n",
    "# Grouping by Student_ID and calculating the average score\n",
    "average_scores = df.groupby('Student_ID')['Exam_Score'].mean().reset_index()\n",
    "average_scores.rename(columns={'Exam_Score': 'Avg_Score'}, inplace=True)\n",
    "\n",
    "# Finding the top 3 students with the highest average scores\n",
    "top_students = average_scores.sort_values(by='Avg_Score', ascending=False).head(3)\n",
    "\n",
    "print(\"Average Exam Scores per Student:\")\n",
    "print(average_scores)\n",
    "\n",
    "print(\"\\nTop 3 Students with Highest Scores:\")\n",
    "print(top_students)"
   ]
  },
  {
   "cell_type": "code",
   "execution_count": 3,
   "id": "291a8bfb-6112-41af-86d8-4d258993b51f",
   "metadata": {},
   "outputs": [
    {
     "name": "stdout",
     "output_type": "stream",
     "text": [
      "Predicted Price for 2800 sqft: $516491\n"
     ]
    },
    {
     "name": "stderr",
     "output_type": "stream",
     "text": [
      "C:\\Users\\Lenovo\\anaconda3\\Lib\\site-packages\\sklearn\\utils\\validation.py:2739: UserWarning: X does not have valid feature names, but LinearRegression was fitted with feature names\n",
      "  warnings.warn(\n"
     ]
    }
   ],
   "source": [
    "import pandas as pd\n",
    "import numpy as np\n",
    "from sklearn.linear_model import LinearRegression\n",
    "\n",
    "# Creating the DataFrame\n",
    "data = {'Size_sqft': [1500, 1800, 2400, 3000, 3500, 4000],\n",
    "        'Price': [300000, 350000, 450000, 550000, 650000, 700000]}\n",
    "\n",
    "df = pd.DataFrame(data)\n",
    "\n",
    "# Defining features and target\n",
    "X = df[['Size_sqft']]\n",
    "y = df['Price']\n",
    "\n",
    "# Training the model\n",
    "model = LinearRegression()\n",
    "model.fit(X, y)\n",
    "\n",
    "# Predicting price for 2800 sqft house\n",
    "predicted_price = model.predict([[2800]])\n",
    "print(f\"Predicted Price for 2800 sqft: ${int(predicted_price[0])}\")"
   ]
  },
  {
   "cell_type": "code",
   "execution_count": 4,
   "id": "a08b2a95-d78b-4cb7-af18-8710488750c9",
   "metadata": {},
   "outputs": [
    {
     "name": "stdout",
     "output_type": "stream",
     "text": [
      "Product Purchase Counts:\n",
      "  Product_ID  Purchase_Count\n",
      "0       P101              14\n",
      "1       P102              11\n",
      "2       P103               9\n",
      "3       P104               1\n",
      "4       P105               3\n",
      "\n",
      "Top 3 Purchased Products:\n",
      "  Product_ID  Purchase_Count\n",
      "0       P101              14\n",
      "1       P102              11\n",
      "2       P103               9\n"
     ]
    }
   ],
   "source": [
    "import pandas as pd\n",
    "\n",
    "# Creating the DataFrame\n",
    "data = {'Product_ID': ['P101', 'P102', 'P103', 'P101', 'P104', 'P102', 'P101', 'P105', 'P102', 'P103'],\n",
    "        'Purchase_Count': [5, 3, 4, 2, 1, 6, 7, 3, 2, 5]}\n",
    "\n",
    "df = pd.DataFrame(data)\n",
    "\n",
    "# Group by Product_ID and sum the purchase count\n",
    "product_purchases = df.groupby('Product_ID')['Purchase_Count'].sum().reset_index()\n",
    "\n",
    "# Sorting and getting top 3 purchased products\n",
    "top_products = product_purchases.sort_values(by='Purchase_Count', ascending=False).head(3)\n",
    "\n",
    "print(\"Product Purchase Counts:\")\n",
    "print(product_purchases)\n",
    "\n",
    "print(\"\\nTop 3 Purchased Products:\")\n",
    "print(top_products)"
   ]
  },
  {
   "cell_type": "code",
   "execution_count": null,
   "id": "bcb27fd1-95a3-4027-b47b-1c0849702c6e",
   "metadata": {},
   "outputs": [],
   "source": []
  }
 ],
 "metadata": {
  "kernelspec": {
   "display_name": "Python [conda env:base] *",
   "language": "python",
   "name": "conda-base-py"
  },
  "language_info": {
   "codemirror_mode": {
    "name": "ipython",
    "version": 3
   },
   "file_extension": ".py",
   "mimetype": "text/x-python",
   "name": "python",
   "nbconvert_exporter": "python",
   "pygments_lexer": "ipython3",
   "version": "3.13.5"
  }
 },
 "nbformat": 4,
 "nbformat_minor": 5
}
